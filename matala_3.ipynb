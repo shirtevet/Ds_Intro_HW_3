{
 "cells": [
  {
   "cell_type": "code",
   "execution_count": 26,
   "id": "2ef3057b-7ea9-480b-9eba-d21238c95666",
   "metadata": {},
   "outputs": [],
   "source": [
    "import requests\n",
    "import json\n",
    "import pandas as pd\n",
    "import numpy as np\n",
    "import googlemaps\n",
    "import re"
   ]
  },
  {
   "cell_type": "code",
   "execution_count": 27,
   "id": "f0ff32d2-cbeb-42c7-95aa-b608647dfecc",
   "metadata": {},
   "outputs": [],
   "source": [
    "#pip install googlemaps"
   ]
  },
  {
   "cell_type": "code",
   "execution_count": 28,
   "id": "b8e291fb-d33f-4bc7-94d4-cb92970853e5",
   "metadata": {},
   "outputs": [],
   "source": [
    "api_key = ' ' \n",
    "gmaps = googlemaps.Client(key=api_key )"
   ]
  },
  {
   "cell_type": "code",
   "execution_count": 29,
   "id": "fcdb4f31-b3a2-45f0-a86a-ac0d5d2639c6",
   "metadata": {},
   "outputs": [],
   "source": [
    "def convert_duration(duration):\n",
    "    matches = re.findall(r'(\\d+)\\s*day', duration)\n",
    "    days = int(matches[0]) if matches else 0\n",
    "    matches = re.findall(r'(\\d+)\\s*hour', duration)\n",
    "    hours = int(matches[0]) if matches else 0\n",
    "    matches = re.findall(r'(\\d+)\\s*min', duration)\n",
    "    minutes = int(matches[0]) if matches else 0\n",
    "\n",
    "    total_minutes = days * 24 * 60 + hours * 60 + minutes\n",
    "    hours = total_minutes // 60\n",
    "    minutes = total_minutes % 60\n",
    "\n",
    "    return f\"{hours}:{minutes:02d}\""
   ]
  },
  {
   "cell_type": "code",
   "execution_count": 30,
   "id": "4a07641f-2801-44d2-b619-257b6e59daed",
   "metadata": {},
   "outputs": [],
   "source": [
    "with open('dests.txt', 'r') as file:\n",
    "    data = []\n",
    "    for line in file:\n",
    "        city = line.strip()\n",
    "        result = gmaps.distance_matrix(city, 'tel aviv')['rows'][0]['elements'][0]\n",
    "        distance = result['distance']['text']\n",
    "        duration = result['duration']['text']\n",
    "        geocode_result = gmaps.geocode(city)\n",
    "        latitude = geocode_result[0]['geometry']['location']['lat']\n",
    "        longitude = geocode_result[0]['geometry']['location']['lng']\n",
    "\n",
    "        duration_formatted = convert_duration(duration)\n",
    "\n",
    "        data.append((line.strip(), distance, duration_formatted, longitude, latitude))\n",
    "\n",
    "dis_from_israel = pd.DataFrame(data, columns=['city', 'Distance', 'Duration', 'Longitude', 'Lat'])"
   ]
  },
  {
   "cell_type": "markdown",
   "id": "a8c818ae-f616-448a-9697-e4de0959837d",
   "metadata": {},
   "source": [
    "dis_from_israel[\"Duration\"]= pd.to_datetime(dis_from_israel[\"Duration\"])"
   ]
  },
  {
   "cell_type": "code",
   "execution_count": 31,
   "id": "7ac99bc2-3bf9-4ec6-aa3a-6121eb52f138",
   "metadata": {},
   "outputs": [
    {
     "data": {
      "text/html": [
       "<div>\n",
       "<style scoped>\n",
       "    .dataframe tbody tr th:only-of-type {\n",
       "        vertical-align: middle;\n",
       "    }\n",
       "\n",
       "    .dataframe tbody tr th {\n",
       "        vertical-align: top;\n",
       "    }\n",
       "\n",
       "    .dataframe thead th {\n",
       "        text-align: right;\n",
       "    }\n",
       "</style>\n",
       "<table border=\"1\" class=\"dataframe\">\n",
       "  <thead>\n",
       "    <tr style=\"text-align: right;\">\n",
       "      <th></th>\n",
       "      <th>city</th>\n",
       "      <th>Distance</th>\n",
       "      <th>Duration</th>\n",
       "      <th>Longitude</th>\n",
       "      <th>Lat</th>\n",
       "    </tr>\n",
       "  </thead>\n",
       "  <tbody>\n",
       "    <tr>\n",
       "      <th>0</th>\n",
       "      <td>Istanbul</td>\n",
       "      <td>1,814 km</td>\n",
       "      <td>20:54</td>\n",
       "      <td>28.978359</td>\n",
       "      <td>41.008238</td>\n",
       "    </tr>\n",
       "    <tr>\n",
       "      <th>1</th>\n",
       "      <td>Amsterdam</td>\n",
       "      <td>4,536 km</td>\n",
       "      <td>48:00</td>\n",
       "      <td>4.904139</td>\n",
       "      <td>52.367573</td>\n",
       "    </tr>\n",
       "    <tr>\n",
       "      <th>2</th>\n",
       "      <td>Valletta</td>\n",
       "      <td>3,795 km</td>\n",
       "      <td>51:00</td>\n",
       "      <td>14.514100</td>\n",
       "      <td>35.899237</td>\n",
       "    </tr>\n",
       "    <tr>\n",
       "      <th>3</th>\n",
       "      <td>Basel</td>\n",
       "      <td>4,095 km</td>\n",
       "      <td>44:00</td>\n",
       "      <td>7.588576</td>\n",
       "      <td>47.559599</td>\n",
       "    </tr>\n",
       "    <tr>\n",
       "      <th>4</th>\n",
       "      <td>Doha</td>\n",
       "      <td>2,167 km</td>\n",
       "      <td>22:44</td>\n",
       "      <td>51.531040</td>\n",
       "      <td>25.285447</td>\n",
       "    </tr>\n",
       "  </tbody>\n",
       "</table>\n",
       "</div>"
      ],
      "text/plain": [
       "        city  Distance Duration  Longitude        Lat\n",
       "0   Istanbul  1,814 km    20:54  28.978359  41.008238\n",
       "1  Amsterdam  4,536 km    48:00   4.904139  52.367573\n",
       "2   Valletta  3,795 km    51:00  14.514100  35.899237\n",
       "3      Basel  4,095 km    44:00   7.588576  47.559599\n",
       "4       Doha  2,167 km    22:44  51.531040  25.285447"
      ]
     },
     "execution_count": 31,
     "metadata": {},
     "output_type": "execute_result"
    }
   ],
   "source": [
    "dis_from_israel"
   ]
  },
  {
   "cell_type": "code",
   "execution_count": 32,
   "id": "f226b399-386f-447f-ae4e-f41414b48f2e",
   "metadata": {},
   "outputs": [
    {
     "data": {
      "text/html": [
       "<div>\n",
       "<style scoped>\n",
       "    .dataframe tbody tr th:only-of-type {\n",
       "        vertical-align: middle;\n",
       "    }\n",
       "\n",
       "    .dataframe tbody tr th {\n",
       "        vertical-align: top;\n",
       "    }\n",
       "\n",
       "    .dataframe thead th {\n",
       "        text-align: right;\n",
       "    }\n",
       "</style>\n",
       "<table border=\"1\" class=\"dataframe\">\n",
       "  <thead>\n",
       "    <tr style=\"text-align: right;\">\n",
       "      <th></th>\n",
       "      <th>city</th>\n",
       "      <th>Distance</th>\n",
       "      <th>Duration</th>\n",
       "      <th>Longitude</th>\n",
       "      <th>Lat</th>\n",
       "    </tr>\n",
       "  </thead>\n",
       "  <tbody>\n",
       "    <tr>\n",
       "      <th>1</th>\n",
       "      <td>Amsterdam</td>\n",
       "      <td>4,536 km</td>\n",
       "      <td>48:00</td>\n",
       "      <td>4.904139</td>\n",
       "      <td>52.367573</td>\n",
       "    </tr>\n",
       "    <tr>\n",
       "      <th>3</th>\n",
       "      <td>Basel</td>\n",
       "      <td>4,095 km</td>\n",
       "      <td>44:00</td>\n",
       "      <td>7.588576</td>\n",
       "      <td>47.559599</td>\n",
       "    </tr>\n",
       "    <tr>\n",
       "      <th>2</th>\n",
       "      <td>Valletta</td>\n",
       "      <td>3,795 km</td>\n",
       "      <td>51:00</td>\n",
       "      <td>14.514100</td>\n",
       "      <td>35.899237</td>\n",
       "    </tr>\n",
       "    <tr>\n",
       "      <th>4</th>\n",
       "      <td>Doha</td>\n",
       "      <td>2,167 km</td>\n",
       "      <td>22:44</td>\n",
       "      <td>51.531040</td>\n",
       "      <td>25.285447</td>\n",
       "    </tr>\n",
       "    <tr>\n",
       "      <th>0</th>\n",
       "      <td>Istanbul</td>\n",
       "      <td>1,814 km</td>\n",
       "      <td>20:54</td>\n",
       "      <td>28.978359</td>\n",
       "      <td>41.008238</td>\n",
       "    </tr>\n",
       "  </tbody>\n",
       "</table>\n",
       "</div>"
      ],
      "text/plain": [
       "        city  Distance Duration  Longitude        Lat\n",
       "1  Amsterdam  4,536 km    48:00   4.904139  52.367573\n",
       "3      Basel  4,095 km    44:00   7.588576  47.559599\n",
       "2   Valletta  3,795 km    51:00  14.514100  35.899237\n",
       "4       Doha  2,167 km    22:44  51.531040  25.285447\n",
       "0   Istanbul  1,814 km    20:54  28.978359  41.008238"
      ]
     },
     "execution_count": 32,
     "metadata": {},
     "output_type": "execute_result"
    }
   ],
   "source": [
    "dis_from_israel.sort_values('Distance',ascending=False)\n"
   ]
  },
  {
   "cell_type": "markdown",
   "id": "60596644-5a5d-4418-a0be-488b2f11408e",
   "metadata": {},
   "source": [
    "##3 cities furthest from Tel Aviv"
   ]
  },
  {
   "cell_type": "code",
   "execution_count": 33,
   "id": "b942a313-e244-4587-89ba-ada48cc53a19",
   "metadata": {},
   "outputs": [
    {
     "data": {
      "text/html": [
       "<div>\n",
       "<style scoped>\n",
       "    .dataframe tbody tr th:only-of-type {\n",
       "        vertical-align: middle;\n",
       "    }\n",
       "\n",
       "    .dataframe tbody tr th {\n",
       "        vertical-align: top;\n",
       "    }\n",
       "\n",
       "    .dataframe thead th {\n",
       "        text-align: right;\n",
       "    }\n",
       "</style>\n",
       "<table border=\"1\" class=\"dataframe\">\n",
       "  <thead>\n",
       "    <tr style=\"text-align: right;\">\n",
       "      <th></th>\n",
       "      <th>city</th>\n",
       "      <th>Distance</th>\n",
       "      <th>Duration</th>\n",
       "      <th>Longitude</th>\n",
       "      <th>Lat</th>\n",
       "    </tr>\n",
       "  </thead>\n",
       "  <tbody>\n",
       "    <tr>\n",
       "      <th>1</th>\n",
       "      <td>Amsterdam</td>\n",
       "      <td>4,536 km</td>\n",
       "      <td>48:00</td>\n",
       "      <td>4.904139</td>\n",
       "      <td>52.367573</td>\n",
       "    </tr>\n",
       "    <tr>\n",
       "      <th>3</th>\n",
       "      <td>Basel</td>\n",
       "      <td>4,095 km</td>\n",
       "      <td>44:00</td>\n",
       "      <td>7.588576</td>\n",
       "      <td>47.559599</td>\n",
       "    </tr>\n",
       "    <tr>\n",
       "      <th>2</th>\n",
       "      <td>Valletta</td>\n",
       "      <td>3,795 km</td>\n",
       "      <td>51:00</td>\n",
       "      <td>14.514100</td>\n",
       "      <td>35.899237</td>\n",
       "    </tr>\n",
       "  </tbody>\n",
       "</table>\n",
       "</div>"
      ],
      "text/plain": [
       "        city  Distance Duration  Longitude        Lat\n",
       "1  Amsterdam  4,536 km    48:00   4.904139  52.367573\n",
       "3      Basel  4,095 km    44:00   7.588576  47.559599\n",
       "2   Valletta  3,795 km    51:00  14.514100  35.899237"
      ]
     },
     "execution_count": 33,
     "metadata": {},
     "output_type": "execute_result"
    }
   ],
   "source": [
    "dis_from_israel.sort_values('Distance',ascending=False).head(3)"
   ]
  }
 ],
 "metadata": {
  "kernelspec": {
   "display_name": "Python 3 (ipykernel)",
   "language": "python",
   "name": "python3"
  },
  "language_info": {
   "codemirror_mode": {
    "name": "ipython",
    "version": 3
   },
   "file_extension": ".py",
   "mimetype": "text/x-python",
   "name": "python",
   "nbconvert_exporter": "python",
   "pygments_lexer": "ipython3",
   "version": "3.9.6"
  }
 },
 "nbformat": 4,
 "nbformat_minor": 5
}
